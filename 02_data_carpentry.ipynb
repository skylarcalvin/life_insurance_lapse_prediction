{
 "cells": [
  {
   "cell_type": "markdown",
   "metadata": {},
   "source": [
    "# Data Carpentry."
   ]
  },
  {
   "cell_type": "markdown",
   "metadata": {},
   "source": [
    "In this notebook I work on cleaning the data and readying it for modeling. Note that this notebook is dependent on the first notebook in the series being ran first, and the life_data.db sqlite databaser to be present."
   ]
  },
  {
   "cell_type": "markdown",
   "metadata": {},
   "source": [
    "#### Import necesary packages."
   ]
  },
  {
   "cell_type": "code",
   "execution_count": 12,
   "metadata": {},
   "outputs": [],
   "source": [
    "import sqlite3 as sql3\n",
    "import pandas as pd"
   ]
  },
  {
   "cell_type": "markdown",
   "metadata": {},
   "source": [
    "#### Import the data."
   ]
  },
  {
   "cell_type": "markdown",
   "metadata": {},
   "source": [
    "I will now connect to the sqlite database that was created in the previous notebook, and import the synthetic life insurance data into a pandas dataframe."
   ]
  },
  {
   "cell_type": "code",
   "execution_count": 13,
   "metadata": {},
   "outputs": [],
   "source": [
    "con = sql3.connect('life_data.db')"
   ]
  },
  {
   "cell_type": "code",
   "execution_count": 14,
   "metadata": {},
   "outputs": [],
   "source": [
    "data = pd.read_sql('SELECT * FROM life_data_synth', con)"
   ]
  },
  {
   "cell_type": "markdown",
   "metadata": {},
   "source": [
    "Let's look at the available columns in the data."
   ]
  },
  {
   "cell_type": "code",
   "execution_count": 15,
   "metadata": {},
   "outputs": [
    {
     "data": {
      "text/plain": [
       "Index(['index', 'Age', 'BMI', 'ZIP Code', 'Children', 'Annual Premium',\n",
       "       'Premium Amount', 'Policy Lapsed', 'Policy Face Value',\n",
       "       'Rider Accidental Death', 'Rider Critical Illness',\n",
       "       'Rider Waiver of Premium', 'Gender_Male', 'Gender_Female', 'Smoker_Yes',\n",
       "       'Smoker_No', 'Premium_Frequency_Monthly', 'Premium_Frequency_Quarterly',\n",
       "       'Premium_Frequency_Semiannual', 'Premium_Frequency_Annual'],\n",
       "      dtype='object')"
      ]
     },
     "execution_count": 15,
     "metadata": {},
     "output_type": "execute_result"
    }
   ],
   "source": [
    "data.columns"
   ]
  },
  {
   "cell_type": "markdown",
   "metadata": {},
   "source": [
    "#### Separate the data in to dependant and independant variables."
   ]
  },
  {
   "cell_type": "markdown",
   "metadata": {},
   "source": [
    "Our dependant variable is the \"Police Lapsed\" variable. Let's put that into a separate pandas Series."
   ]
  },
  {
   "cell_type": "code",
   "execution_count": 16,
   "metadata": {},
   "outputs": [],
   "source": [
    "y = data['Policy Lapsed']"
   ]
  },
  {
   "cell_type": "code",
   "execution_count": 17,
   "metadata": {},
   "outputs": [
    {
     "data": {
      "text/plain": [
       "0         0\n",
       "1         0\n",
       "2         1\n",
       "3         0\n",
       "4         1\n",
       "         ..\n",
       "999995    1\n",
       "999996    1\n",
       "999997    0\n",
       "999998    1\n",
       "999999    0\n",
       "Name: Policy Lapsed, Length: 1000000, dtype: int64"
      ]
     },
     "execution_count": 17,
     "metadata": {},
     "output_type": "execute_result"
    }
   ],
   "source": [
    "y"
   ]
  },
  {
   "cell_type": "markdown",
   "metadata": {},
   "source": [
    "And now, the independent variables."
   ]
  },
  {
   "cell_type": "code",
   "execution_count": 18,
   "metadata": {},
   "outputs": [],
   "source": [
    "X = data.drop('Policy Lapsed', axis = 1)"
   ]
  },
  {
   "cell_type": "code",
   "execution_count": 19,
   "metadata": {},
   "outputs": [
    {
     "data": {
      "text/html": [
       "<div>\n",
       "<style scoped>\n",
       "    .dataframe tbody tr th:only-of-type {\n",
       "        vertical-align: middle;\n",
       "    }\n",
       "\n",
       "    .dataframe tbody tr th {\n",
       "        vertical-align: top;\n",
       "    }\n",
       "\n",
       "    .dataframe thead th {\n",
       "        text-align: right;\n",
       "    }\n",
       "</style>\n",
       "<table border=\"1\" class=\"dataframe\">\n",
       "  <thead>\n",
       "    <tr style=\"text-align: right;\">\n",
       "      <th></th>\n",
       "      <th>index</th>\n",
       "      <th>Age</th>\n",
       "      <th>BMI</th>\n",
       "      <th>ZIP Code</th>\n",
       "      <th>Children</th>\n",
       "      <th>Annual Premium</th>\n",
       "      <th>Premium Amount</th>\n",
       "      <th>Policy Face Value</th>\n",
       "      <th>Rider Accidental Death</th>\n",
       "      <th>Rider Critical Illness</th>\n",
       "      <th>Rider Waiver of Premium</th>\n",
       "      <th>Gender_Male</th>\n",
       "      <th>Gender_Female</th>\n",
       "      <th>Smoker_Yes</th>\n",
       "      <th>Smoker_No</th>\n",
       "      <th>Premium_Frequency_Monthly</th>\n",
       "      <th>Premium_Frequency_Quarterly</th>\n",
       "      <th>Premium_Frequency_Semiannual</th>\n",
       "      <th>Premium_Frequency_Annual</th>\n",
       "    </tr>\n",
       "  </thead>\n",
       "  <tbody>\n",
       "    <tr>\n",
       "      <th>0</th>\n",
       "      <td>0</td>\n",
       "      <td>45</td>\n",
       "      <td>21.6</td>\n",
       "      <td>36689</td>\n",
       "      <td>4</td>\n",
       "      <td>667.0</td>\n",
       "      <td>667.00</td>\n",
       "      <td>300000</td>\n",
       "      <td>0</td>\n",
       "      <td>1</td>\n",
       "      <td>0</td>\n",
       "      <td>0</td>\n",
       "      <td>1</td>\n",
       "      <td>1</td>\n",
       "      <td>0</td>\n",
       "      <td>0</td>\n",
       "      <td>0</td>\n",
       "      <td>0</td>\n",
       "      <td>1</td>\n",
       "    </tr>\n",
       "    <tr>\n",
       "      <th>1</th>\n",
       "      <td>1</td>\n",
       "      <td>56</td>\n",
       "      <td>20.7</td>\n",
       "      <td>72751</td>\n",
       "      <td>0</td>\n",
       "      <td>682.0</td>\n",
       "      <td>56.83</td>\n",
       "      <td>750000</td>\n",
       "      <td>0</td>\n",
       "      <td>0</td>\n",
       "      <td>0</td>\n",
       "      <td>1</td>\n",
       "      <td>0</td>\n",
       "      <td>1</td>\n",
       "      <td>0</td>\n",
       "      <td>1</td>\n",
       "      <td>0</td>\n",
       "      <td>0</td>\n",
       "      <td>0</td>\n",
       "    </tr>\n",
       "    <tr>\n",
       "      <th>2</th>\n",
       "      <td>2</td>\n",
       "      <td>70</td>\n",
       "      <td>35.0</td>\n",
       "      <td>42343</td>\n",
       "      <td>0</td>\n",
       "      <td>510.0</td>\n",
       "      <td>255.00</td>\n",
       "      <td>250000</td>\n",
       "      <td>0</td>\n",
       "      <td>0</td>\n",
       "      <td>0</td>\n",
       "      <td>0</td>\n",
       "      <td>1</td>\n",
       "      <td>0</td>\n",
       "      <td>1</td>\n",
       "      <td>0</td>\n",
       "      <td>0</td>\n",
       "      <td>1</td>\n",
       "      <td>0</td>\n",
       "    </tr>\n",
       "    <tr>\n",
       "      <th>3</th>\n",
       "      <td>3</td>\n",
       "      <td>34</td>\n",
       "      <td>30.3</td>\n",
       "      <td>88549</td>\n",
       "      <td>0</td>\n",
       "      <td>808.0</td>\n",
       "      <td>404.00</td>\n",
       "      <td>1500000</td>\n",
       "      <td>1</td>\n",
       "      <td>0</td>\n",
       "      <td>1</td>\n",
       "      <td>1</td>\n",
       "      <td>0</td>\n",
       "      <td>1</td>\n",
       "      <td>0</td>\n",
       "      <td>0</td>\n",
       "      <td>0</td>\n",
       "      <td>1</td>\n",
       "      <td>0</td>\n",
       "    </tr>\n",
       "    <tr>\n",
       "      <th>4</th>\n",
       "      <td>4</td>\n",
       "      <td>23</td>\n",
       "      <td>30.9</td>\n",
       "      <td>76455</td>\n",
       "      <td>5</td>\n",
       "      <td>287.0</td>\n",
       "      <td>23.92</td>\n",
       "      <td>1800000</td>\n",
       "      <td>0</td>\n",
       "      <td>1</td>\n",
       "      <td>0</td>\n",
       "      <td>1</td>\n",
       "      <td>0</td>\n",
       "      <td>0</td>\n",
       "      <td>1</td>\n",
       "      <td>1</td>\n",
       "      <td>0</td>\n",
       "      <td>0</td>\n",
       "      <td>0</td>\n",
       "    </tr>\n",
       "    <tr>\n",
       "      <th>...</th>\n",
       "      <td>...</td>\n",
       "      <td>...</td>\n",
       "      <td>...</td>\n",
       "      <td>...</td>\n",
       "      <td>...</td>\n",
       "      <td>...</td>\n",
       "      <td>...</td>\n",
       "      <td>...</td>\n",
       "      <td>...</td>\n",
       "      <td>...</td>\n",
       "      <td>...</td>\n",
       "      <td>...</td>\n",
       "      <td>...</td>\n",
       "      <td>...</td>\n",
       "      <td>...</td>\n",
       "      <td>...</td>\n",
       "      <td>...</td>\n",
       "      <td>...</td>\n",
       "      <td>...</td>\n",
       "    </tr>\n",
       "    <tr>\n",
       "      <th>999995</th>\n",
       "      <td>999995</td>\n",
       "      <td>21</td>\n",
       "      <td>34.2</td>\n",
       "      <td>22902</td>\n",
       "      <td>2</td>\n",
       "      <td>347.0</td>\n",
       "      <td>173.50</td>\n",
       "      <td>200000</td>\n",
       "      <td>0</td>\n",
       "      <td>1</td>\n",
       "      <td>1</td>\n",
       "      <td>1</td>\n",
       "      <td>0</td>\n",
       "      <td>0</td>\n",
       "      <td>1</td>\n",
       "      <td>0</td>\n",
       "      <td>0</td>\n",
       "      <td>1</td>\n",
       "      <td>0</td>\n",
       "    </tr>\n",
       "    <tr>\n",
       "      <th>999996</th>\n",
       "      <td>999996</td>\n",
       "      <td>68</td>\n",
       "      <td>39.3</td>\n",
       "      <td>78027</td>\n",
       "      <td>2</td>\n",
       "      <td>590.0</td>\n",
       "      <td>49.17</td>\n",
       "      <td>1600000</td>\n",
       "      <td>0</td>\n",
       "      <td>0</td>\n",
       "      <td>1</td>\n",
       "      <td>0</td>\n",
       "      <td>1</td>\n",
       "      <td>0</td>\n",
       "      <td>1</td>\n",
       "      <td>1</td>\n",
       "      <td>0</td>\n",
       "      <td>0</td>\n",
       "      <td>0</td>\n",
       "    </tr>\n",
       "    <tr>\n",
       "      <th>999997</th>\n",
       "      <td>999997</td>\n",
       "      <td>53</td>\n",
       "      <td>24.2</td>\n",
       "      <td>06335</td>\n",
       "      <td>1</td>\n",
       "      <td>243.0</td>\n",
       "      <td>121.50</td>\n",
       "      <td>1400000</td>\n",
       "      <td>1</td>\n",
       "      <td>0</td>\n",
       "      <td>0</td>\n",
       "      <td>1</td>\n",
       "      <td>0</td>\n",
       "      <td>0</td>\n",
       "      <td>1</td>\n",
       "      <td>0</td>\n",
       "      <td>0</td>\n",
       "      <td>1</td>\n",
       "      <td>0</td>\n",
       "    </tr>\n",
       "    <tr>\n",
       "      <th>999998</th>\n",
       "      <td>999998</td>\n",
       "      <td>66</td>\n",
       "      <td>27.5</td>\n",
       "      <td>02542</td>\n",
       "      <td>4</td>\n",
       "      <td>848.0</td>\n",
       "      <td>212.00</td>\n",
       "      <td>1750000</td>\n",
       "      <td>0</td>\n",
       "      <td>1</td>\n",
       "      <td>1</td>\n",
       "      <td>1</td>\n",
       "      <td>0</td>\n",
       "      <td>1</td>\n",
       "      <td>0</td>\n",
       "      <td>0</td>\n",
       "      <td>1</td>\n",
       "      <td>0</td>\n",
       "      <td>0</td>\n",
       "    </tr>\n",
       "    <tr>\n",
       "      <th>999999</th>\n",
       "      <td>999999</td>\n",
       "      <td>19</td>\n",
       "      <td>39.7</td>\n",
       "      <td>19543</td>\n",
       "      <td>2</td>\n",
       "      <td>951.0</td>\n",
       "      <td>475.50</td>\n",
       "      <td>750000</td>\n",
       "      <td>1</td>\n",
       "      <td>0</td>\n",
       "      <td>1</td>\n",
       "      <td>0</td>\n",
       "      <td>1</td>\n",
       "      <td>1</td>\n",
       "      <td>0</td>\n",
       "      <td>0</td>\n",
       "      <td>0</td>\n",
       "      <td>1</td>\n",
       "      <td>0</td>\n",
       "    </tr>\n",
       "  </tbody>\n",
       "</table>\n",
       "<p>1000000 rows × 19 columns</p>\n",
       "</div>"
      ],
      "text/plain": [
       "         index  Age   BMI ZIP Code  Children  Annual Premium  Premium Amount  \\\n",
       "0            0   45  21.6    36689         4           667.0          667.00   \n",
       "1            1   56  20.7    72751         0           682.0           56.83   \n",
       "2            2   70  35.0    42343         0           510.0          255.00   \n",
       "3            3   34  30.3    88549         0           808.0          404.00   \n",
       "4            4   23  30.9    76455         5           287.0           23.92   \n",
       "...        ...  ...   ...      ...       ...             ...             ...   \n",
       "999995  999995   21  34.2    22902         2           347.0          173.50   \n",
       "999996  999996   68  39.3    78027         2           590.0           49.17   \n",
       "999997  999997   53  24.2    06335         1           243.0          121.50   \n",
       "999998  999998   66  27.5    02542         4           848.0          212.00   \n",
       "999999  999999   19  39.7    19543         2           951.0          475.50   \n",
       "\n",
       "        Policy Face Value  Rider Accidental Death  Rider Critical Illness  \\\n",
       "0                  300000                       0                       1   \n",
       "1                  750000                       0                       0   \n",
       "2                  250000                       0                       0   \n",
       "3                 1500000                       1                       0   \n",
       "4                 1800000                       0                       1   \n",
       "...                   ...                     ...                     ...   \n",
       "999995             200000                       0                       1   \n",
       "999996            1600000                       0                       0   \n",
       "999997            1400000                       1                       0   \n",
       "999998            1750000                       0                       1   \n",
       "999999             750000                       1                       0   \n",
       "\n",
       "        Rider Waiver of Premium  Gender_Male  Gender_Female  Smoker_Yes  \\\n",
       "0                             0            0              1           1   \n",
       "1                             0            1              0           1   \n",
       "2                             0            0              1           0   \n",
       "3                             1            1              0           1   \n",
       "4                             0            1              0           0   \n",
       "...                         ...          ...            ...         ...   \n",
       "999995                        1            1              0           0   \n",
       "999996                        1            0              1           0   \n",
       "999997                        0            1              0           0   \n",
       "999998                        1            1              0           1   \n",
       "999999                        1            0              1           1   \n",
       "\n",
       "        Smoker_No  Premium_Frequency_Monthly  Premium_Frequency_Quarterly  \\\n",
       "0               0                          0                            0   \n",
       "1               0                          1                            0   \n",
       "2               1                          0                            0   \n",
       "3               0                          0                            0   \n",
       "4               1                          1                            0   \n",
       "...           ...                        ...                          ...   \n",
       "999995          1                          0                            0   \n",
       "999996          1                          1                            0   \n",
       "999997          1                          0                            0   \n",
       "999998          0                          0                            1   \n",
       "999999          0                          0                            0   \n",
       "\n",
       "        Premium_Frequency_Semiannual  Premium_Frequency_Annual  \n",
       "0                                  0                         1  \n",
       "1                                  0                         0  \n",
       "2                                  1                         0  \n",
       "3                                  1                         0  \n",
       "4                                  0                         0  \n",
       "...                              ...                       ...  \n",
       "999995                             1                         0  \n",
       "999996                             0                         0  \n",
       "999997                             1                         0  \n",
       "999998                             0                         0  \n",
       "999999                             1                         0  \n",
       "\n",
       "[1000000 rows x 19 columns]"
      ]
     },
     "execution_count": 19,
     "metadata": {},
     "output_type": "execute_result"
    }
   ],
   "source": [
    "X"
   ]
  },
  {
   "cell_type": "markdown",
   "metadata": {},
   "source": [
    "#### Load the variables back into the database."
   ]
  },
  {
   "cell_type": "code",
   "execution_count": 20,
   "metadata": {},
   "outputs": [
    {
     "data": {
      "text/plain": [
       "1000000"
      ]
     },
     "execution_count": 20,
     "metadata": {},
     "output_type": "execute_result"
    }
   ],
   "source": [
    "y.to_sql('y', con)"
   ]
  },
  {
   "cell_type": "code",
   "execution_count": 21,
   "metadata": {},
   "outputs": [
    {
     "data": {
      "text/plain": [
       "1000000"
      ]
     },
     "execution_count": 21,
     "metadata": {},
     "output_type": "execute_result"
    }
   ],
   "source": [
    "X.to_sql('X', con)"
   ]
  }
 ],
 "metadata": {
  "kernelspec": {
   "display_name": ".venv",
   "language": "python",
   "name": "python3"
  },
  "language_info": {
   "codemirror_mode": {
    "name": "ipython",
    "version": 3
   },
   "file_extension": ".py",
   "mimetype": "text/x-python",
   "name": "python",
   "nbconvert_exporter": "python",
   "pygments_lexer": "ipython3",
   "version": "3.12.5"
  }
 },
 "nbformat": 4,
 "nbformat_minor": 2
}
