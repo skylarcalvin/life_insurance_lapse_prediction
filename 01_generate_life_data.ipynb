{
 "cells": [
  {
   "cell_type": "markdown",
   "metadata": {},
   "source": [
    "# Life Insurance Data Generation."
   ]
  },
  {
   "cell_type": "markdown",
   "metadata": {},
   "source": [
    "In this notebook we generate synthetic life insurance data to be used for machine learning. For this task we will use the generation function stored in the tools.py module."
   ]
  },
  {
   "cell_type": "markdown",
   "metadata": {},
   "source": [
    "#### Import Necesary Packages."
   ]
  },
  {
   "cell_type": "code",
   "execution_count": 4,
   "metadata": {},
   "outputs": [],
   "source": [
    "import modules.tools as tools\n",
    "import pandas as pd\n",
    "import sqlite3 as sql3"
   ]
  },
  {
   "cell_type": "markdown",
   "metadata": {},
   "source": [
    "#### Generate One Million Rows of Data."
   ]
  },
  {
   "cell_type": "code",
   "execution_count": 2,
   "metadata": {},
   "outputs": [
    {
     "data": {
      "text/html": [
       "<div>\n",
       "<style scoped>\n",
       "    .dataframe tbody tr th:only-of-type {\n",
       "        vertical-align: middle;\n",
       "    }\n",
       "\n",
       "    .dataframe tbody tr th {\n",
       "        vertical-align: top;\n",
       "    }\n",
       "\n",
       "    .dataframe thead th {\n",
       "        text-align: right;\n",
       "    }\n",
       "</style>\n",
       "<table border=\"1\" class=\"dataframe\">\n",
       "  <thead>\n",
       "    <tr style=\"text-align: right;\">\n",
       "      <th></th>\n",
       "      <th>Age</th>\n",
       "      <th>BMI</th>\n",
       "      <th>ZIP Code</th>\n",
       "      <th>Children</th>\n",
       "      <th>Annual Premium</th>\n",
       "      <th>Premium Amount</th>\n",
       "      <th>Policy Lapsed</th>\n",
       "      <th>Policy Face Value</th>\n",
       "      <th>Rider Accidental Death</th>\n",
       "      <th>Rider Critical Illness</th>\n",
       "      <th>Rider Waiver of Premium</th>\n",
       "      <th>Gender_Male</th>\n",
       "      <th>Gender_Female</th>\n",
       "      <th>Smoker_Yes</th>\n",
       "      <th>Smoker_No</th>\n",
       "      <th>Premium_Frequency_Monthly</th>\n",
       "      <th>Premium_Frequency_Quarterly</th>\n",
       "      <th>Premium_Frequency_Semiannual</th>\n",
       "      <th>Premium_Frequency_Annual</th>\n",
       "    </tr>\n",
       "  </thead>\n",
       "  <tbody>\n",
       "    <tr>\n",
       "      <th>0</th>\n",
       "      <td>35</td>\n",
       "      <td>25.5</td>\n",
       "      <td>73159</td>\n",
       "      <td>5</td>\n",
       "      <td>715.0</td>\n",
       "      <td>715.00</td>\n",
       "      <td>1</td>\n",
       "      <td>1250000</td>\n",
       "      <td>0</td>\n",
       "      <td>0</td>\n",
       "      <td>1</td>\n",
       "      <td>1</td>\n",
       "      <td>0</td>\n",
       "      <td>1</td>\n",
       "      <td>0</td>\n",
       "      <td>0</td>\n",
       "      <td>0</td>\n",
       "      <td>0</td>\n",
       "      <td>1</td>\n",
       "    </tr>\n",
       "    <tr>\n",
       "      <th>1</th>\n",
       "      <td>46</td>\n",
       "      <td>26.8</td>\n",
       "      <td>64857</td>\n",
       "      <td>0</td>\n",
       "      <td>274.0</td>\n",
       "      <td>274.00</td>\n",
       "      <td>1</td>\n",
       "      <td>850000</td>\n",
       "      <td>0</td>\n",
       "      <td>0</td>\n",
       "      <td>0</td>\n",
       "      <td>0</td>\n",
       "      <td>1</td>\n",
       "      <td>0</td>\n",
       "      <td>1</td>\n",
       "      <td>0</td>\n",
       "      <td>0</td>\n",
       "      <td>0</td>\n",
       "      <td>1</td>\n",
       "    </tr>\n",
       "    <tr>\n",
       "      <th>2</th>\n",
       "      <td>62</td>\n",
       "      <td>34.6</td>\n",
       "      <td>15492</td>\n",
       "      <td>4</td>\n",
       "      <td>478.0</td>\n",
       "      <td>239.00</td>\n",
       "      <td>0</td>\n",
       "      <td>1700000</td>\n",
       "      <td>0</td>\n",
       "      <td>0</td>\n",
       "      <td>0</td>\n",
       "      <td>1</td>\n",
       "      <td>0</td>\n",
       "      <td>0</td>\n",
       "      <td>1</td>\n",
       "      <td>0</td>\n",
       "      <td>0</td>\n",
       "      <td>1</td>\n",
       "      <td>0</td>\n",
       "    </tr>\n",
       "    <tr>\n",
       "      <th>3</th>\n",
       "      <td>32</td>\n",
       "      <td>15.1</td>\n",
       "      <td>88430</td>\n",
       "      <td>2</td>\n",
       "      <td>498.0</td>\n",
       "      <td>41.50</td>\n",
       "      <td>0</td>\n",
       "      <td>450000</td>\n",
       "      <td>0</td>\n",
       "      <td>0</td>\n",
       "      <td>0</td>\n",
       "      <td>0</td>\n",
       "      <td>1</td>\n",
       "      <td>1</td>\n",
       "      <td>0</td>\n",
       "      <td>1</td>\n",
       "      <td>0</td>\n",
       "      <td>0</td>\n",
       "      <td>0</td>\n",
       "    </tr>\n",
       "    <tr>\n",
       "      <th>4</th>\n",
       "      <td>61</td>\n",
       "      <td>21.0</td>\n",
       "      <td>18980</td>\n",
       "      <td>0</td>\n",
       "      <td>703.0</td>\n",
       "      <td>175.75</td>\n",
       "      <td>1</td>\n",
       "      <td>2000000</td>\n",
       "      <td>1</td>\n",
       "      <td>1</td>\n",
       "      <td>0</td>\n",
       "      <td>1</td>\n",
       "      <td>0</td>\n",
       "      <td>1</td>\n",
       "      <td>0</td>\n",
       "      <td>0</td>\n",
       "      <td>1</td>\n",
       "      <td>0</td>\n",
       "      <td>0</td>\n",
       "    </tr>\n",
       "  </tbody>\n",
       "</table>\n",
       "</div>"
      ],
      "text/plain": [
       "   Age   BMI ZIP Code  Children  Annual Premium  Premium Amount  \\\n",
       "0   35  25.5    73159         5           715.0          715.00   \n",
       "1   46  26.8    64857         0           274.0          274.00   \n",
       "2   62  34.6    15492         4           478.0          239.00   \n",
       "3   32  15.1    88430         2           498.0           41.50   \n",
       "4   61  21.0    18980         0           703.0          175.75   \n",
       "\n",
       "   Policy Lapsed  Policy Face Value  Rider Accidental Death  \\\n",
       "0              1            1250000                       0   \n",
       "1              1             850000                       0   \n",
       "2              0            1700000                       0   \n",
       "3              0             450000                       0   \n",
       "4              1            2000000                       1   \n",
       "\n",
       "   Rider Critical Illness  Rider Waiver of Premium  Gender_Male  \\\n",
       "0                       0                        1            1   \n",
       "1                       0                        0            0   \n",
       "2                       0                        0            1   \n",
       "3                       0                        0            0   \n",
       "4                       1                        0            1   \n",
       "\n",
       "   Gender_Female  Smoker_Yes  Smoker_No  Premium_Frequency_Monthly  \\\n",
       "0              0           1          0                          0   \n",
       "1              1           0          1                          0   \n",
       "2              0           0          1                          0   \n",
       "3              1           1          0                          1   \n",
       "4              0           1          0                          0   \n",
       "\n",
       "   Premium_Frequency_Quarterly  Premium_Frequency_Semiannual  \\\n",
       "0                            0                             0   \n",
       "1                            0                             0   \n",
       "2                            0                             1   \n",
       "3                            0                             0   \n",
       "4                            1                             0   \n",
       "\n",
       "   Premium_Frequency_Annual  \n",
       "0                         1  \n",
       "1                         1  \n",
       "2                         0  \n",
       "3                         0  \n",
       "4                         0  "
      ]
     },
     "execution_count": 2,
     "metadata": {},
     "output_type": "execute_result"
    }
   ],
   "source": [
    "cat_data = tools.generate_life_insurance_data(1000000)\n",
    "cat_data.head()"
   ]
  },
  {
   "cell_type": "markdown",
   "metadata": {},
   "source": [
    "#### Spin up an empty sqlite database, and populate it for use in other notebooks."
   ]
  },
  {
   "cell_type": "markdown",
   "metadata": {},
   "source": [
    "Spin up an empty sqlite database."
   ]
  },
  {
   "cell_type": "code",
   "execution_count": 3,
   "metadata": {},
   "outputs": [],
   "source": [
    "con = sql3.connect('life_data.db')"
   ]
  },
  {
   "cell_type": "markdown",
   "metadata": {},
   "source": [
    "Load our synthetic data into it..."
   ]
  },
  {
   "cell_type": "code",
   "execution_count": 5,
   "metadata": {},
   "outputs": [
    {
     "data": {
      "text/plain": [
       "1000000"
      ]
     },
     "execution_count": 5,
     "metadata": {},
     "output_type": "execute_result"
    }
   ],
   "source": [
    "cat_data.to_sql('life_data_synth', con = con, if_exists = \"replace\")"
   ]
  },
  {
   "cell_type": "markdown",
   "metadata": {},
   "source": [
    "To regenrate more data, simply rerun all cells..."
   ]
  }
 ],
 "metadata": {
  "kernelspec": {
   "display_name": "surrender",
   "language": "python",
   "name": "python3"
  },
  "language_info": {
   "codemirror_mode": {
    "name": "ipython",
    "version": 3
   },
   "file_extension": ".py",
   "mimetype": "text/x-python",
   "name": "python",
   "nbconvert_exporter": "python",
   "pygments_lexer": "ipython3",
   "version": "3.12.1"
  }
 },
 "nbformat": 4,
 "nbformat_minor": 2
}
